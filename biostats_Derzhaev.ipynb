{
 "cells": [
  {
   "cell_type": "markdown",
   "id": "da18e16f",
   "metadata": {},
   "source": [
    "# Домашнее задание, вариант 26\n",
    "# Держаев Антон"
   ]
  },
  {
   "cell_type": "code",
   "execution_count": 1,
   "id": "21941b72",
   "metadata": {},
   "outputs": [],
   "source": [
    "import numpy as np\n",
    "import pandas as pd\n",
    "import scipy.stats as sps\n",
    "import matplotlib.pyplot as plt\n",
    "import seaborn as sns\n",
    "import scipy\n",
    "from statsmodels.sandbox.stats.multicomp import multipletests\n",
    "\n",
    "sns.set(style='white')\n",
    "\n",
    "%matplotlib inline"
   ]
  },
  {
   "cell_type": "code",
   "execution_count": 11,
   "id": "19188110",
   "metadata": {},
   "outputs": [
    {
     "data": {
      "text/html": [
       "<div>\n",
       "<style scoped>\n",
       "    .dataframe tbody tr th:only-of-type {\n",
       "        vertical-align: middle;\n",
       "    }\n",
       "\n",
       "    .dataframe tbody tr th {\n",
       "        vertical-align: top;\n",
       "    }\n",
       "\n",
       "    .dataframe thead th {\n",
       "        text-align: right;\n",
       "    }\n",
       "</style>\n",
       "<table border=\"1\" class=\"dataframe\">\n",
       "  <thead>\n",
       "    <tr style=\"text-align: right;\">\n",
       "      <th></th>\n",
       "      <th>ID</th>\n",
       "      <th>Возраст</th>\n",
       "      <th>Курение(1-да, 0-нет)</th>\n",
       "      <th>Атеросклероз аорты</th>\n",
       "      <th>Эритроциты</th>\n",
       "    </tr>\n",
       "  </thead>\n",
       "  <tbody>\n",
       "    <tr>\n",
       "      <th>0</th>\n",
       "      <td>1</td>\n",
       "      <td>67.0</td>\n",
       "      <td>0.0</td>\n",
       "      <td>0.0</td>\n",
       "      <td>4.500</td>\n",
       "    </tr>\n",
       "    <tr>\n",
       "      <th>1</th>\n",
       "      <td>2</td>\n",
       "      <td>45.0</td>\n",
       "      <td>0.0</td>\n",
       "      <td>0.0</td>\n",
       "      <td>4.880</td>\n",
       "    </tr>\n",
       "    <tr>\n",
       "      <th>2</th>\n",
       "      <td>3</td>\n",
       "      <td>63.0</td>\n",
       "      <td>0.0</td>\n",
       "      <td>0.0</td>\n",
       "      <td>4.500</td>\n",
       "    </tr>\n",
       "    <tr>\n",
       "      <th>3</th>\n",
       "      <td>4</td>\n",
       "      <td>43.5</td>\n",
       "      <td>0.0</td>\n",
       "      <td>0.0</td>\n",
       "      <td>4.850</td>\n",
       "    </tr>\n",
       "    <tr>\n",
       "      <th>4</th>\n",
       "      <td>5</td>\n",
       "      <td>68.0</td>\n",
       "      <td>1.0</td>\n",
       "      <td>0.0</td>\n",
       "      <td>4.670</td>\n",
       "    </tr>\n",
       "    <tr>\n",
       "      <th>...</th>\n",
       "      <td>...</td>\n",
       "      <td>...</td>\n",
       "      <td>...</td>\n",
       "      <td>...</td>\n",
       "      <td>...</td>\n",
       "    </tr>\n",
       "    <tr>\n",
       "      <th>107</th>\n",
       "      <td>108</td>\n",
       "      <td>58.0</td>\n",
       "      <td>1.0</td>\n",
       "      <td>0.0</td>\n",
       "      <td>4.510</td>\n",
       "    </tr>\n",
       "    <tr>\n",
       "      <th>108</th>\n",
       "      <td>109</td>\n",
       "      <td>55.0</td>\n",
       "      <td>0.0</td>\n",
       "      <td>0.0</td>\n",
       "      <td>5.130</td>\n",
       "    </tr>\n",
       "    <tr>\n",
       "      <th>109</th>\n",
       "      <td>110</td>\n",
       "      <td>56.0</td>\n",
       "      <td>0.0</td>\n",
       "      <td>1.0</td>\n",
       "      <td>NaN</td>\n",
       "    </tr>\n",
       "    <tr>\n",
       "      <th>110</th>\n",
       "      <td>111</td>\n",
       "      <td>45.0</td>\n",
       "      <td>1.0</td>\n",
       "      <td>0.0</td>\n",
       "      <td>5.109</td>\n",
       "    </tr>\n",
       "    <tr>\n",
       "      <th>111</th>\n",
       "      <td>112</td>\n",
       "      <td>NaN</td>\n",
       "      <td>0.0</td>\n",
       "      <td>0.0</td>\n",
       "      <td>5.444</td>\n",
       "    </tr>\n",
       "  </tbody>\n",
       "</table>\n",
       "<p>112 rows × 5 columns</p>\n",
       "</div>"
      ],
      "text/plain": [
       "      ID  Возраст  Курение(1-да, 0-нет)  Атеросклероз аорты  Эритроциты\n",
       "0      1     67.0                   0.0                 0.0       4.500\n",
       "1      2     45.0                   0.0                 0.0       4.880\n",
       "2      3     63.0                   0.0                 0.0       4.500\n",
       "3      4     43.5                   0.0                 0.0       4.850\n",
       "4      5     68.0                   1.0                 0.0       4.670\n",
       "..   ...      ...                   ...                 ...         ...\n",
       "107  108     58.0                   1.0                 0.0       4.510\n",
       "108  109     55.0                   0.0                 0.0       5.130\n",
       "109  110     56.0                   0.0                 1.0         NaN\n",
       "110  111     45.0                   1.0                 0.0       5.109\n",
       "111  112      NaN                   0.0                 0.0       5.444\n",
       "\n",
       "[112 rows x 5 columns]"
      ]
     },
     "execution_count": 11,
     "metadata": {},
     "output_type": "execute_result"
    }
   ],
   "source": [
    "data = pd.read_excel('dz1stats.xlsx')\n",
    "data=data.iloc[:,[0,1,2,3,4]]\n",
    "data"
   ]
  },
  {
   "cell_type": "markdown",
   "id": "3a812aa6",
   "metadata": {},
   "source": [
    "Проверим качественные признаки на нормальность"
   ]
  },
  {
   "cell_type": "code",
   "execution_count": 12,
   "id": "64e3633d",
   "metadata": {},
   "outputs": [
    {
     "name": "stderr",
     "output_type": "stream",
     "text": [
      "/var/folders/31/pj5t3xpj63j607j_6f0y4kb80000gn/T/ipykernel_4707/446810137.py:2: SettingWithCopyWarning: \n",
      "A value is trying to be set on a copy of a slice from a DataFrame\n",
      "\n",
      "See the caveats in the documentation: https://pandas.pydata.org/pandas-docs/stable/user_guide/indexing.html#returning-a-view-versus-a-copy\n",
      "  data1.dropna(inplace=True)\n"
     ]
    }
   ],
   "source": [
    "data1=data.iloc[:,[1,4]]\n",
    "data1.dropna(inplace=True)\n",
    "data1=data1.to_numpy()\n",
    "data1=data1.T\n",
    "data1=data1[0:]\n",
    "columns = ['Возраст', \"Эритроциты\"]"
   ]
  },
  {
   "cell_type": "markdown",
   "id": "6a0acde0",
   "metadata": {},
   "source": [
    "Посмотрим Q-Q plot для признаков"
   ]
  },
  {
   "cell_type": "code",
   "execution_count": 13,
   "id": "35c4f88d",
   "metadata": {},
   "outputs": [
    {
     "data": {
      "image/png": "[encoded data removed]",
      "text/plain": [
       "<Figure size 1080x2160 with 2 Axes>"
      ]
     },
     "metadata": {
      "needs_background": "light"
     },
     "output_type": "display_data"
    }
   ],
   "source": [
    "columns=[\"Возраст\", \"Эритроциты\"]\n",
    "plt.figure(figsize=(15,30))\n",
    "for i in range(len(data1)):\n",
    "    a=plt.subplot(5, 3, i+1)\n",
    "    sps.probplot(data1[i], plot=a)\n",
    "    plt.title(columns[i])"
   ]
  },
  {
   "cell_type": "markdown",
   "id": "5ead5505",
   "metadata": {},
   "source": [
    "Визуально распределние по эритроцитам близко к нормальному, а вот с возрастом не уверен"
   ]
  },
  {
   "cell_type": "code",
   "execution_count": 14,
   "id": "23b5fbeb",
   "metadata": {},
   "outputs": [
    {
     "data": {
      "text/html": [
       "<div>\n",
       "<style scoped>\n",
       "    .dataframe tbody tr th:only-of-type {\n",
       "        vertical-align: middle;\n",
       "    }\n",
       "\n",
       "    .dataframe tbody tr th {\n",
       "        vertical-align: top;\n",
       "    }\n",
       "\n",
       "    .dataframe thead th {\n",
       "        text-align: right;\n",
       "    }\n",
       "</style>\n",
       "<table border=\"1\" class=\"dataframe\">\n",
       "  <thead>\n",
       "    <tr style=\"text-align: right;\">\n",
       "      <th></th>\n",
       "      <th>Колмогоров</th>\n",
       "      <th>Жарк-Бера</th>\n",
       "      <th>Шапиро-Уилк</th>\n",
       "      <th>Отвержение</th>\n",
       "    </tr>\n",
       "  </thead>\n",
       "  <tbody>\n",
       "    <tr>\n",
       "      <th>Возраст</th>\n",
       "      <td>0.2961375217131721</td>\n",
       "      <td>1.3132717921138237e-05</td>\n",
       "      <td>7.14366979082115e-05</td>\n",
       "      <td>True</td>\n",
       "    </tr>\n",
       "    <tr>\n",
       "      <th>Эритроциты</th>\n",
       "      <td>0.2961375217131721</td>\n",
       "      <td>0.2961375217131721</td>\n",
       "      <td>0.2961375217131721</td>\n",
       "      <td>False</td>\n",
       "    </tr>\n",
       "  </tbody>\n",
       "</table>\n",
       "</div>"
      ],
      "text/plain": [
       "                    Колмогоров               Жарк-Бера           Шапиро-Уилк  \\\n",
       "Возраст     0.2961375217131721  1.3132717921138237e-05  7.14366979082115e-05   \n",
       "Эритроциты  0.2961375217131721      0.2961375217131721    0.2961375217131721   \n",
       "\n",
       "           Отвержение  \n",
       "Возраст          True  \n",
       "Эритроциты      False  "
      ]
     },
     "execution_count": 14,
     "metadata": {},
     "output_type": "execute_result"
    }
   ],
   "source": [
    "pvalues=[]\n",
    "for i in range(len(data1)):\n",
    "    pvalues.append([])\n",
    "    pvalues[i].append(sps.kstest(data1[i], sps.norm(*sps.norm.fit(data1[i])).cdf)[1])\n",
    "    pvalues[i].append(sps.jarque_bera(data1[i])[1])\n",
    "    pvalues[i].append(sps.shapiro(data1[i])[1])\n",
    "    \n",
    "pvalues=np.array(pvalues)\n",
    "pvalues_corrected = multipletests(pvalues.ravel(), method='holm')[1].reshape(2,3)\n",
    "\n",
    "reject=np.array([])\n",
    "for i in range(len(data1)):\n",
    "    H0=True\n",
    "    for elem in pvalues_corrected[i]:\n",
    "        if elem<0.05:\n",
    "            H0=False\n",
    "    if H0: \n",
    "        reject = np.append(reject, 'False')\n",
    "    else:\n",
    "        reject = np.append(reject, 'True')\n",
    "\n",
    "reject=np.array(reject)\n",
    "columns=np.array(columns)\n",
    "criterias=np.array(['Колмогоров', 'Жарк-Бера', 'Шапиро-Уилк', 'Отвержение'])\n",
    "\n",
    "pvalues_corrected=np.concatenate((pvalues_corrected, reject.reshape(-1,1)), axis=1)\n",
    "\n",
    "pvalues_corrected=pd.DataFrame(pvalues_corrected, columns, criterias)\n",
    "\n",
    "pvalues_corrected"
   ]
  },
  {
   "cell_type": "markdown",
   "id": "4f0050a3",
   "metadata": {},
   "source": [
    "Проведя МПГ становится понятно, что для признака \"Возраст\" можно отвергнуть нулевую гипотезу о нормальности распределения данных. "
   ]
  },
  {
   "cell_type": "markdown",
   "id": "8cd48720",
   "metadata": {},
   "source": [
    "Рассмотрим признаки Курение-Эритроциты"
   ]
  },
  {
   "cell_type": "code",
   "execution_count": 15,
   "id": "5448be90",
   "metadata": {},
   "outputs": [],
   "source": [
    "SmokEr=data.copy()"
   ]
  },
  {
   "cell_type": "markdown",
   "id": "4eddb36e",
   "metadata": {},
   "source": [
    "Оценим данные визуально"
   ]
  },
  {
   "cell_type": "code",
   "execution_count": 16,
   "id": "2ef221d6",
   "metadata": {},
   "outputs": [
    {
     "data": {
      "image/png": "[encoded data removed]",
      "text/plain": [
       "<Figure size 1080x576 with 2 Axes>"
      ]
     },
     "metadata": {
      "needs_background": "light"
     },
     "output_type": "display_data"
    }
   ],
   "source": [
    "plt.figure(figsize=(15, 8))\n",
    "plt.subplot(121)\n",
    "plt.hist(SmokEr[SmokEr['Курение(1-да, 0-нет)']==0]['Эритроциты'], bins=20)\n",
    "plt.title('Распределение для некурящих')\n",
    "plt.xlabel('Эритроциты') \n",
    "plt.ylabel('Кол-во людей')\n",
    "plt.subplot(122)\n",
    "plt.hist(SmokEr[SmokEr['Курение(1-да, 0-нет)']==1]['Эритроциты'], bins=20)\n",
    "plt.title('Распределение для курящих')\n",
    "plt.xlabel('Эритроциты')\n",
    "plt.ylabel('Кол-во людей')\n",
    "plt.show()"
   ]
  },
  {
   "cell_type": "code",
   "execution_count": 17,
   "id": "a4250acf",
   "metadata": {},
   "outputs": [
    {
     "data": {
      "image/png": "[encoded data removed]",
      "text/plain": [
       "<Figure size 1080x432 with 1 Axes>"
      ]
     },
     "metadata": {
      "needs_background": "light"
     },
     "output_type": "display_data"
    }
   ],
   "source": [
    "plt.figure(figsize=(15,6))\n",
    "sns.kdeplot(data[data['Курение(1-да, 0-нет)'] == 0].iloc[:, 4], label='0').set_title('Зависимость количества эритроцитов от курения')\n",
    "sns.kdeplot(data[data['Курение(1-да, 0-нет)'] == 1].iloc[:, 4], label='1')\n",
    "plt.legend()\n",
    "plt.show()"
   ]
  },
  {
   "cell_type": "markdown",
   "id": "961bd70a",
   "metadata": {},
   "source": [
    "Чисто визуально из гистограмм, можно прикинуть, что у курящих у большего процента людей число эритроцитов выше нормы(4-5). (+можно отметить, что курящик людей раза в 2 меньше).Значимое ли это различие, мы сейчас проверим. Из ядерной оценки плотности видно, что отличие незначительное."
   ]
  },
  {
   "cell_type": "code",
   "execution_count": 18,
   "id": "005027bd",
   "metadata": {},
   "outputs": [],
   "source": [
    "SmokEr.dropna(inplace=True)"
   ]
  },
  {
   "cell_type": "code",
   "execution_count": 19,
   "id": "4103bde8",
   "metadata": {},
   "outputs": [
    {
     "name": "stdout",
     "output_type": "stream",
     "text": [
      "Коэффициент корреляции Пирсона равен 0.0336 с p-value = 0.7477\n"
     ]
    }
   ],
   "source": [
    "corr, pv1 = sps.pearsonr(SmokEr['Курение(1-да, 0-нет)'], SmokEr['Эритроциты'])\n",
    "print(f'Коэффициент корреляции Пирсона равен {round(corr, 4)} с p-value = {round(pv1, 4)}')"
   ]
  },
  {
   "cell_type": "markdown",
   "id": "e6b14295",
   "metadata": {},
   "source": [
    "p-value > 0.05 - статистически незначимый результат => принимается нулевая гипотеза о том, что нет различий между выборками. Более того доверительный интервал для коэф. корреляции содержит 0. Количество эритроцитов и курение не связаны. "
   ]
  },
  {
   "cell_type": "code",
   "execution_count": 20,
   "id": "7f79dad7",
   "metadata": {},
   "outputs": [
    {
     "name": "stdout",
     "output_type": "stream",
     "text": [
      "Доверительный интервал: (-0.17015606462314053, 0.23463861044244064)\n"
     ]
    }
   ],
   "source": [
    "zr = np.arctanh(corr) \n",
    "confidence_level = 0.95\n",
    "se = np.sqrt(1 / (SmokEr.shape[0] - 3))       \n",
    "h = scipy.special.ndtri(0.5 + confidence_level/2)\n",
    "zlo = zr - h*se\n",
    "zhi = zr + h*se\n",
    "rlo = np.tanh(zlo)\n",
    "rhi = np.tanh(zhi)\n",
    "print(f'Доверительный интервал: {(rlo, rhi)}')"
   ]
  },
  {
   "cell_type": "code",
   "execution_count": 21,
   "id": "43821a09",
   "metadata": {},
   "outputs": [
    {
     "name": "stdout",
     "output_type": "stream",
     "text": [
      "Коэффициент корреляции Пирсона равен 0.0336 с p-value = 0.7477\n",
      "Коэффициент корреляции Cпирмена равен 0.0451 с p-value = 0.6663\n",
      "Коэффициент корреляции Кендалла равен 0.0371 с p-value = 0.6639\n",
      "После МПГ: [False False False]\n"
     ]
    }
   ],
   "source": [
    "k1, pv1 = sps.pearsonr(SmokEr['Курение(1-да, 0-нет)'], SmokEr['Эритроциты'])\n",
    "k2, pv2 = sps.spearmanr(SmokEr['Курение(1-да, 0-нет)'], SmokEr['Эритроциты'])\n",
    "k3, pv3 = sps.kendalltau(SmokEr['Курение(1-да, 0-нет)'], SmokEr['Эритроциты'])\n",
    "print(f'Коэффициент корреляции Пирсона равен {round(k1, 4)} с p-value = {round(pv1, 4)}')\n",
    "print(f'Коэффициент корреляции Cпирмена равен {round(k2, 4)} с p-value = {round(pv2, 4)}')\n",
    "print(f'Коэффициент корреляции Кендалла равен {round(k3, 4)} с p-value = {round(pv3, 4)}')\n",
    "print('После МПГ:', multipletests([pv1, pv2, pv3], method='holm')[0])"
   ]
  },
  {
   "cell_type": "markdown",
   "id": "63244810",
   "metadata": {},
   "source": [
    "Корреляции не наблюдается ни по одному из методов оценки"
   ]
  },
  {
   "cell_type": "markdown",
   "id": "a96c9519",
   "metadata": {},
   "source": [
    "Проведем аналогичные вычисления для признаков Возраст - Атеросклероз (Хотя возраст вообще не распределен нормально)"
   ]
  },
  {
   "cell_type": "code",
   "execution_count": 22,
   "id": "e35412b6",
   "metadata": {},
   "outputs": [],
   "source": [
    "AgeAt=data.copy()"
   ]
  },
  {
   "cell_type": "code",
   "execution_count": 23,
   "id": "4b7d5f22",
   "metadata": {},
   "outputs": [
    {
     "data": {
      "text/html": [
       "<div>\n",
       "<style scoped>\n",
       "    .dataframe tbody tr th:only-of-type {\n",
       "        vertical-align: middle;\n",
       "    }\n",
       "\n",
       "    .dataframe tbody tr th {\n",
       "        vertical-align: top;\n",
       "    }\n",
       "\n",
       "    .dataframe thead th {\n",
       "        text-align: right;\n",
       "    }\n",
       "</style>\n",
       "<table border=\"1\" class=\"dataframe\">\n",
       "  <thead>\n",
       "    <tr style=\"text-align: right;\">\n",
       "      <th></th>\n",
       "      <th>ID</th>\n",
       "      <th>Возраст</th>\n",
       "      <th>Курение(1-да, 0-нет)</th>\n",
       "      <th>Атеросклероз аорты</th>\n",
       "      <th>Эритроциты</th>\n",
       "    </tr>\n",
       "  </thead>\n",
       "  <tbody>\n",
       "    <tr>\n",
       "      <th>0</th>\n",
       "      <td>1</td>\n",
       "      <td>67.0</td>\n",
       "      <td>0.0</td>\n",
       "      <td>0.0</td>\n",
       "      <td>4.500</td>\n",
       "    </tr>\n",
       "    <tr>\n",
       "      <th>1</th>\n",
       "      <td>2</td>\n",
       "      <td>45.0</td>\n",
       "      <td>0.0</td>\n",
       "      <td>0.0</td>\n",
       "      <td>4.880</td>\n",
       "    </tr>\n",
       "    <tr>\n",
       "      <th>2</th>\n",
       "      <td>3</td>\n",
       "      <td>63.0</td>\n",
       "      <td>0.0</td>\n",
       "      <td>0.0</td>\n",
       "      <td>4.500</td>\n",
       "    </tr>\n",
       "    <tr>\n",
       "      <th>3</th>\n",
       "      <td>4</td>\n",
       "      <td>43.5</td>\n",
       "      <td>0.0</td>\n",
       "      <td>0.0</td>\n",
       "      <td>4.850</td>\n",
       "    </tr>\n",
       "    <tr>\n",
       "      <th>4</th>\n",
       "      <td>5</td>\n",
       "      <td>68.0</td>\n",
       "      <td>1.0</td>\n",
       "      <td>0.0</td>\n",
       "      <td>4.670</td>\n",
       "    </tr>\n",
       "    <tr>\n",
       "      <th>...</th>\n",
       "      <td>...</td>\n",
       "      <td>...</td>\n",
       "      <td>...</td>\n",
       "      <td>...</td>\n",
       "      <td>...</td>\n",
       "    </tr>\n",
       "    <tr>\n",
       "      <th>107</th>\n",
       "      <td>108</td>\n",
       "      <td>58.0</td>\n",
       "      <td>1.0</td>\n",
       "      <td>0.0</td>\n",
       "      <td>4.510</td>\n",
       "    </tr>\n",
       "    <tr>\n",
       "      <th>108</th>\n",
       "      <td>109</td>\n",
       "      <td>55.0</td>\n",
       "      <td>0.0</td>\n",
       "      <td>0.0</td>\n",
       "      <td>5.130</td>\n",
       "    </tr>\n",
       "    <tr>\n",
       "      <th>109</th>\n",
       "      <td>110</td>\n",
       "      <td>56.0</td>\n",
       "      <td>0.0</td>\n",
       "      <td>1.0</td>\n",
       "      <td>NaN</td>\n",
       "    </tr>\n",
       "    <tr>\n",
       "      <th>110</th>\n",
       "      <td>111</td>\n",
       "      <td>45.0</td>\n",
       "      <td>1.0</td>\n",
       "      <td>0.0</td>\n",
       "      <td>5.109</td>\n",
       "    </tr>\n",
       "    <tr>\n",
       "      <th>111</th>\n",
       "      <td>112</td>\n",
       "      <td>NaN</td>\n",
       "      <td>0.0</td>\n",
       "      <td>0.0</td>\n",
       "      <td>5.444</td>\n",
       "    </tr>\n",
       "  </tbody>\n",
       "</table>\n",
       "<p>112 rows × 5 columns</p>\n",
       "</div>"
      ],
      "text/plain": [
       "      ID  Возраст  Курение(1-да, 0-нет)  Атеросклероз аорты  Эритроциты\n",
       "0      1     67.0                   0.0                 0.0       4.500\n",
       "1      2     45.0                   0.0                 0.0       4.880\n",
       "2      3     63.0                   0.0                 0.0       4.500\n",
       "3      4     43.5                   0.0                 0.0       4.850\n",
       "4      5     68.0                   1.0                 0.0       4.670\n",
       "..   ...      ...                   ...                 ...         ...\n",
       "107  108     58.0                   1.0                 0.0       4.510\n",
       "108  109     55.0                   0.0                 0.0       5.130\n",
       "109  110     56.0                   0.0                 1.0         NaN\n",
       "110  111     45.0                   1.0                 0.0       5.109\n",
       "111  112      NaN                   0.0                 0.0       5.444\n",
       "\n",
       "[112 rows x 5 columns]"
      ]
     },
     "execution_count": 23,
     "metadata": {},
     "output_type": "execute_result"
    }
   ],
   "source": [
    "AgeAt"
   ]
  },
  {
   "cell_type": "code",
   "execution_count": 25,
   "id": "8a2a3139",
   "metadata": {},
   "outputs": [
    {
     "data": {
      "image/png": "[encoded data removed]",
      "text/plain": [
       "<Figure size 1080x576 with 2 Axes>"
      ]
     },
     "metadata": {
      "needs_background": "light"
     },
     "output_type": "display_data"
    }
   ],
   "source": [
    "plt.figure(figsize=(15, 8))\n",
    "plt.subplot(121)\n",
    "plt.hist(AgeAt[AgeAt['Атеросклероз аорты']==0]['Возраст'], bins=20)\n",
    "plt.title('Распределение для не больных')\n",
    "plt.xlabel('Возраст') \n",
    "plt.ylabel('Кол-во людей')\n",
    "plt.subplot(122)\n",
    "plt.hist(AgeAt[AgeAt['Атеросклероз аорты']==1]['Возраст'], bins=20)\n",
    "plt.title('Распределение для больных')\n",
    "plt.xlabel('Возраст')\n",
    "plt.ylabel('Кол-во людей')\n",
    "plt.show()"
   ]
  },
  {
   "cell_type": "code",
   "execution_count": 26,
   "id": "bf71679b",
   "metadata": {},
   "outputs": [
    {
     "data": {
      "image/png": "[encoded data removed]",
      "text/plain": [
       "<Figure size 1080x432 with 1 Axes>"
      ]
     },
     "metadata": {
      "needs_background": "light"
     },
     "output_type": "display_data"
    }
   ],
   "source": [
    "plt.figure(figsize=(15,6))\n",
    "sns.kdeplot(data[data['Атеросклероз аорты'] == 0].iloc[:, 4], label='0').set_title('Распределение больных и небольных атеросклерозом по возрасту')\n",
    "sns.kdeplot(data[data['Атеросклероз аорты'] == 1].iloc[:, 4], label='1')\n",
    "plt.legend()\n",
    "plt.show()"
   ]
  },
  {
   "cell_type": "markdown",
   "id": "e83bbdae",
   "metadata": {},
   "source": [
    "Как будто больных молодых больше. Но посмотрим, значимая ли это разница"
   ]
  },
  {
   "cell_type": "code",
   "execution_count": 27,
   "id": "8c4e413e",
   "metadata": {},
   "outputs": [],
   "source": [
    "AgeAt.dropna(inplace=True)"
   ]
  },
  {
   "cell_type": "code",
   "execution_count": 29,
   "id": "8accc98e",
   "metadata": {},
   "outputs": [
    {
     "name": "stdout",
     "output_type": "stream",
     "text": [
      "Коэффициент корреляции Пирсона равен 0.2831 с p-value = 0.0057\n"
     ]
    }
   ],
   "source": [
    "corr, pv1 = sps.pearsonr(AgeAt['Атеросклероз аорты'], AgeAt['Возраст'])\n",
    "print(f'Коэффициент корреляции Пирсона равен {round(corr, 4)} с p-value = {round(pv1, 4)}')"
   ]
  },
  {
   "cell_type": "markdown",
   "id": "db8b258a",
   "metadata": {},
   "source": [
    "pvalue < 0,05 => результат статистически значим. Коэффициент корреляции в пределах 0.25 - 0.5 - средняя зависимость признаков. "
   ]
  },
  {
   "cell_type": "code",
   "execution_count": 33,
   "id": "fd3d1299",
   "metadata": {},
   "outputs": [
    {
     "name": "stdout",
     "output_type": "stream",
     "text": [
      "Коэффициент корреляции Пирсона равен 0.2831 с p-value = 0.0057\n",
      "Коэффициент корреляции Cпирмена равен 0.2447 с p-value = 0.0175\n",
      "Коэффициент корреляции Кендалла равен 0.2031 с p-value = 0.0183\n",
      "После МПГ: [ True  True  True]\n"
     ]
    }
   ],
   "source": [
    "k1, pv1 = sps.pearsonr(AgeAt['Атеросклероз аорты'], AgeAt['Возраст'])\n",
    "k2, pv2 = sps.spearmanr(AgeAt['Атеросклероз аорты'], AgeAt['Возраст'])\n",
    "k3, pv3 = sps.kendalltau(AgeAt['Атеросклероз аорты'], AgeAt['Возраст'])\n",
    "print(f'Коэффициент корреляции Пирсона равен {round(k1, 4)} с p-value = {round(pv1, 4)}')\n",
    "print(f'Коэффициент корреляции Cпирмена равен {round(k2, 4)} с p-value = {round(pv2, 4)}')\n",
    "print(f'Коэффициент корреляции Кендалла равен {round(k3, 4)} с p-value = {round(pv3, 4)}')\n",
    "print('После МПГ:', multipletests([pv1, pv2, pv3], method='holm')[0])"
   ]
  },
  {
   "cell_type": "markdown",
   "id": "18befd25",
   "metadata": {},
   "source": [
    "    С большой уверенностью можно отвергнуть гипотезу о том, что атеросклероз и возраст незавсимы(только стоит заметить, что исходные данные по возрасту не распределены нормально=> мы уже на самом начале должны были перестать это проверять:))"
   ]
  },
  {
   "cell_type": "code",
   "execution_count": 34,
   "id": "5124a896",
   "metadata": {},
   "outputs": [
    {
     "name": "stdout",
     "output_type": "stream",
     "text": [
      "Requirement already satisfied: nbconvert[webpdf] in /Library/Frameworks/Python.framework/Versions/3.8/lib/python3.8/site-packages (6.4.2)\n",
      "Requirement already satisfied: jupyter-core in /Library/Frameworks/Python.framework/Versions/3.8/lib/python3.8/site-packages (from nbconvert[webpdf]) (4.9.2)\n",
      "Requirement already satisfied: mistune<2,>=0.8.1 in /Library/Frameworks/Python.framework/Versions/3.8/lib/python3.8/site-packages (from nbconvert[webpdf]) (0.8.4)\n",
      "Requirement already satisfied: bleach in /Library/Frameworks/Python.framework/Versions/3.8/lib/python3.8/site-packages (from nbconvert[webpdf]) (4.1.0)\n",
      "Requirement already satisfied: pandocfilters>=1.4.1 in /Library/Frameworks/Python.framework/Versions/3.8/lib/python3.8/site-packages (from nbconvert[webpdf]) (1.5.0)\n",
      "Requirement already satisfied: traitlets>=5.0 in /Library/Frameworks/Python.framework/Versions/3.8/lib/python3.8/site-packages (from nbconvert[webpdf]) (5.1.1)\n",
      "Requirement already satisfied: nbclient<0.6.0,>=0.5.0 in /Library/Frameworks/Python.framework/Versions/3.8/lib/python3.8/site-packages (from nbconvert[webpdf]) (0.5.11)\n",
      "Requirement already satisfied: jupyterlab-pygments in /Library/Frameworks/Python.framework/Versions/3.8/lib/python3.8/site-packages (from nbconvert[webpdf]) (0.1.2)\n",
      "Requirement already satisfied: defusedxml in /Library/Frameworks/Python.framework/Versions/3.8/lib/python3.8/site-packages (from nbconvert[webpdf]) (0.7.1)\n",
      "Requirement already satisfied: nbformat>=4.4 in /Library/Frameworks/Python.framework/Versions/3.8/lib/python3.8/site-packages (from nbconvert[webpdf]) (5.1.3)\n",
      "Requirement already satisfied: pygments>=2.4.1 in /Library/Frameworks/Python.framework/Versions/3.8/lib/python3.8/site-packages (from nbconvert[webpdf]) (2.11.2)\n",
      "Requirement already satisfied: jinja2>=2.4 in /Library/Frameworks/Python.framework/Versions/3.8/lib/python3.8/site-packages (from nbconvert[webpdf]) (3.0.3)\n",
      "Requirement already satisfied: entrypoints>=0.2.2 in /Library/Frameworks/Python.framework/Versions/3.8/lib/python3.8/site-packages (from nbconvert[webpdf]) (0.4)\n",
      "Requirement already satisfied: testpath in /Library/Frameworks/Python.framework/Versions/3.8/lib/python3.8/site-packages (from nbconvert[webpdf]) (0.6.0)\n",
      "Collecting pyppeteer<1.1,>=1\n",
      "  Downloading pyppeteer-1.0.2-py3-none-any.whl (83 kB)\n",
      "\u001b[K     |████████████████████████████████| 83 kB 882 kB/s eta 0:00:01\n",
      "\u001b[?25hRequirement already satisfied: MarkupSafe>=2.0 in /Library/Frameworks/Python.framework/Versions/3.8/lib/python3.8/site-packages (from jinja2>=2.4->nbconvert[webpdf]) (2.0.1)\n",
      "Requirement already satisfied: nest-asyncio in /Library/Frameworks/Python.framework/Versions/3.8/lib/python3.8/site-packages (from nbclient<0.6.0,>=0.5.0->nbconvert[webpdf]) (1.5.4)\n",
      "Requirement already satisfied: jupyter-client>=6.1.5 in /Library/Frameworks/Python.framework/Versions/3.8/lib/python3.8/site-packages (from nbclient<0.6.0,>=0.5.0->nbconvert[webpdf]) (7.1.2)\n",
      "Requirement already satisfied: pyzmq>=13 in /Library/Frameworks/Python.framework/Versions/3.8/lib/python3.8/site-packages (from jupyter-client>=6.1.5->nbclient<0.6.0,>=0.5.0->nbconvert[webpdf]) (22.3.0)\n",
      "Requirement already satisfied: python-dateutil>=2.1 in /Library/Frameworks/Python.framework/Versions/3.8/lib/python3.8/site-packages (from jupyter-client>=6.1.5->nbclient<0.6.0,>=0.5.0->nbconvert[webpdf]) (2.8.1)\n",
      "Requirement already satisfied: tornado>=4.1 in /Library/Frameworks/Python.framework/Versions/3.8/lib/python3.8/site-packages (from jupyter-client>=6.1.5->nbclient<0.6.0,>=0.5.0->nbconvert[webpdf]) (6.1)\n",
      "Requirement already satisfied: jsonschema!=2.5.0,>=2.4 in /Library/Frameworks/Python.framework/Versions/3.8/lib/python3.8/site-packages (from nbformat>=4.4->nbconvert[webpdf]) (4.4.0)\n",
      "Requirement already satisfied: ipython-genutils in /Library/Frameworks/Python.framework/Versions/3.8/lib/python3.8/site-packages (from nbformat>=4.4->nbconvert[webpdf]) (0.2.0)\n",
      "Requirement already satisfied: importlib-resources>=1.4.0 in /Library/Frameworks/Python.framework/Versions/3.8/lib/python3.8/site-packages (from jsonschema!=2.5.0,>=2.4->nbformat>=4.4->nbconvert[webpdf]) (5.4.0)\n",
      "Requirement already satisfied: attrs>=17.4.0 in /Library/Frameworks/Python.framework/Versions/3.8/lib/python3.8/site-packages (from jsonschema!=2.5.0,>=2.4->nbformat>=4.4->nbconvert[webpdf]) (21.4.0)\n",
      "Requirement already satisfied: pyrsistent!=0.17.0,!=0.17.1,!=0.17.2,>=0.14.0 in /Library/Frameworks/Python.framework/Versions/3.8/lib/python3.8/site-packages (from jsonschema!=2.5.0,>=2.4->nbformat>=4.4->nbconvert[webpdf]) (0.18.1)\n",
      "Requirement already satisfied: zipp>=3.1.0 in /Library/Frameworks/Python.framework/Versions/3.8/lib/python3.8/site-packages (from importlib-resources>=1.4.0->jsonschema!=2.5.0,>=2.4->nbformat>=4.4->nbconvert[webpdf]) (3.7.0)\n",
      "Requirement already satisfied: tqdm<5.0.0,>=4.42.1 in /Library/Frameworks/Python.framework/Versions/3.8/lib/python3.8/site-packages (from pyppeteer<1.1,>=1->nbconvert[webpdf]) (4.63.0)\n",
      "Collecting appdirs<2.0.0,>=1.4.3\n",
      "  Downloading appdirs-1.4.4-py2.py3-none-any.whl (9.6 kB)\n",
      "Requirement already satisfied: urllib3<2.0.0,>=1.25.8 in /Library/Frameworks/Python.framework/Versions/3.8/lib/python3.8/site-packages (from pyppeteer<1.1,>=1->nbconvert[webpdf]) (1.26.8)\n",
      "Collecting pyee<9.0.0,>=8.1.0\n",
      "  Downloading pyee-8.2.2-py2.py3-none-any.whl (12 kB)\n",
      "Requirement already satisfied: certifi>=2021 in /Library/Frameworks/Python.framework/Versions/3.8/lib/python3.8/site-packages (from pyppeteer<1.1,>=1->nbconvert[webpdf]) (2022.5.18)\n",
      "Requirement already satisfied: importlib-metadata>=1.4 in /Library/Frameworks/Python.framework/Versions/3.8/lib/python3.8/site-packages (from pyppeteer<1.1,>=1->nbconvert[webpdf]) (4.11.3)\n",
      "Collecting websockets<11.0,>=10.0\n",
      "  Downloading websockets-10.4-cp38-cp38-macosx_10_9_x86_64.whl (97 kB)\n",
      "\u001b[K     |████████████████████████████████| 97 kB 2.6 MB/s eta 0:00:01\n",
      "\u001b[?25hRequirement already satisfied: six>=1.5 in /Library/Frameworks/Python.framework/Versions/3.8/lib/python3.8/site-packages (from python-dateutil>=2.1->jupyter-client>=6.1.5->nbclient<0.6.0,>=0.5.0->nbconvert[webpdf]) (1.15.0)\n",
      "Requirement already satisfied: webencodings in /Library/Frameworks/Python.framework/Versions/3.8/lib/python3.8/site-packages (from bleach->nbconvert[webpdf]) (0.5.1)\n",
      "Requirement already satisfied: packaging in /Library/Frameworks/Python.framework/Versions/3.8/lib/python3.8/site-packages (from bleach->nbconvert[webpdf]) (21.3)\n",
      "Requirement already satisfied: pyparsing!=3.0.5,>=2.0.2 in /Library/Frameworks/Python.framework/Versions/3.8/lib/python3.8/site-packages (from packaging->bleach->nbconvert[webpdf]) (2.4.7)\n",
      "Installing collected packages: websockets, pyee, appdirs, pyppeteer\n",
      "Successfully installed appdirs-1.4.4 pyee-8.2.2 pyppeteer-1.0.2 websockets-10.4\n",
      "\u001b[33mWARNING: You are using pip version 21.0.1; however, version 22.3.1 is available.\n",
      "You should consider upgrading via the '/Library/Frameworks/Python.framework/Versions/3.8/bin/python3.8 -m pip install --upgrade pip' command.\u001b[0m\n"
     ]
    }
   ],
   "source": [
    "!pip install nbconvert[webpdf]"
   ]
  }
 ],
 "metadata": {
  "kernelspec": {
   "display_name": "Python 3 (ipykernel)",
   "language": "python",
   "name": "python3"
  },
  "language_info": {
   "codemirror_mode": {
    "name": "ipython",
    "version": 3
   },
   "file_extension": ".py",
   "mimetype": "text/x-python",
   "name": "python",
   "nbconvert_exporter": "python",
   "pygments_lexer": "ipython3",
   "version": "3.8.5"
  }
 },
 "nbformat": 4,
 "nbformat_minor": 5
}
